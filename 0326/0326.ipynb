{
 "cells": [
  {
   "cell_type": "markdown",
   "metadata": {},
   "source": [
    "## homework"
   ]
  },
  {
   "cell_type": "code",
   "execution_count": 123,
   "metadata": {},
   "outputs": [
    {
     "name": "stdout",
     "output_type": "stream",
     "text": [
      "12,34,23,12\n"
     ]
    },
    {
     "data": {
      "text/plain": [
       "[112, 134, 123, 112]"
      ]
     },
     "execution_count": 123,
     "metadata": {},
     "output_type": "execute_result"
    }
   ],
   "source": [
    "num=list(map(int, input().split(',')))\n",
    "list(map(lambda x:x+100,num))"
   ]
  },
  {
   "cell_type": "code",
   "execution_count": 125,
   "metadata": {},
   "outputs": [],
   "source": [
    "def multi(func):\n",
    "    def new_function(a,b,*args,**kwargs):\n",
    "        add = func(a,b,*args,**kwargs)\n",
    "        print(\"add_ints:\",add)\n",
    "        return a*b \n",
    "    return new_function"
   ]
  },
  {
   "cell_type": "code",
   "execution_count": 126,
   "metadata": {},
   "outputs": [],
   "source": [
    "@multi\n",
    "def add_ints(a,b):\n",
    "    return a+b"
   ]
  },
  {
   "cell_type": "code",
   "execution_count": 127,
   "metadata": {
    "scrolled": true
   },
   "outputs": [
    {
     "name": "stdout",
     "output_type": "stream",
     "text": [
      "add_ints: 9\n"
     ]
    },
    {
     "data": {
      "text/plain": [
       "18"
      ]
     },
     "execution_count": 127,
     "metadata": {},
     "output_type": "execute_result"
    }
   ],
   "source": [
    "add_ints(3,6)"
   ]
  },
  {
   "cell_type": "code",
   "execution_count": 124,
   "metadata": {},
   "outputs": [
    {
     "name": "stdout",
     "output_type": "stream",
     "text": [
      "請輸入整數a\n",
      "出錯，請重新輸入\n"
     ]
    }
   ],
   "source": [
    "a = input(\"請輸入整數\")\n",
    "try:\n",
    "    int(a)\n",
    "except:\n",
    "    print(\"出錯，請重新輸入\")"
   ]
  },
  {
   "cell_type": "code",
   "execution_count": 6,
   "metadata": {},
   "outputs": [
    {
     "name": "stdout",
     "output_type": "stream",
     "text": [
      "calculator:23*35\n",
      "805\n"
     ]
    }
   ],
   "source": [
    "from source.calculator import sub_args\n",
    "from source.calculator import sum_args\n",
    "from source.calculator import multi\n",
    "from source.calculator import dev\n",
    "num = input(\"calculator:\")\n",
    "def calculator(func,*args):\n",
    "    return func(*args)\n",
    "if \"+\" in num:\n",
    "    try:\n",
    "        num = num.split(\"+\")\n",
    "        print(calculator(sum_args,int(num[0]),int(num[1])))\n",
    "    except:\n",
    "        print(\"請再試一次\")\n",
    "if \"-\" in num:\n",
    "    try:\n",
    "        num = num.split(\"-\")\n",
    "        print(calculator(sub_args,int(num[0]),int(num[1])))\n",
    "    except:\n",
    "        print(\"請再試一次\")\n",
    "if \"*\" in num:\n",
    "    try:\n",
    "        num = num.split(\"*\")\n",
    "        print(calculator(multi,int(num[0]),int(num[1])))\n",
    "    except:\n",
    "        print(\"請再試一次\")\n",
    "if \"/\" in num:\n",
    "    try:\n",
    "        num = num.split(\"/\")\n",
    "        print(calculator(dev,int(num[0]),int(num[1])))\n",
    "    except:\n",
    "        print(\"請再試一次\")"
   ]
  },
  {
   "cell_type": "code",
   "execution_count": null,
   "metadata": {},
   "outputs": [],
   "source": []
  },
  {
   "cell_type": "markdown",
   "metadata": {},
   "source": [
    "## 課堂練習"
   ]
  },
  {
   "cell_type": "code",
   "execution_count": 14,
   "metadata": {},
   "outputs": [
    {
     "name": "stdout",
     "output_type": "stream",
     "text": [
      "([1, 2, 3],) {}\n",
      "() {'x': 1, 'y': 2, 'z': 3}\n",
      "(0, 1, 2, 3) {'tName': 'hi', 'x': 1, 'y': 2, 'z': 3}\n",
      "(0,) {'x': 1, 'y': 2, 'z': 3}\n"
     ]
    }
   ],
   "source": [
    "tList=[1,2,3]\n",
    "tTuple=(1,2,3)\n",
    "tDic={'x':1,'y':2,'z':3}\n",
    "def testarg(*arg,**kwargs):\n",
    "    print(arg,kwargs)\n",
    "\n",
    "testarg(tList)\n",
    "testarg(**tDic)\n",
    "testarg(0, *tList, tName=\"hi\", **tDic)\n",
    "testarg(0,**tDic)"
   ]
  },
  {
   "cell_type": "code",
   "execution_count": 16,
   "metadata": {},
   "outputs": [],
   "source": [
    "def cowsay(saying):\n",
    "    def inner():\n",
    "        return\"Cowsay:'%s'\"%saying\n",
    "    return inner"
   ]
  },
  {
   "cell_type": "code",
   "execution_count": 30,
   "metadata": {},
   "outputs": [],
   "source": [
    "a=cowsay('MOOO')"
   ]
  },
  {
   "cell_type": "code",
   "execution_count": 31,
   "metadata": {},
   "outputs": [
    {
     "data": {
      "text/plain": [
       "\"Cowsay:'MOOO'\""
      ]
     },
     "execution_count": 31,
     "metadata": {},
     "output_type": "execute_result"
    }
   ],
   "source": [
    "a()"
   ]
  },
  {
   "cell_type": "code",
   "execution_count": 32,
   "metadata": {},
   "outputs": [],
   "source": [
    "def genpower(num1):\n",
    "    def power(num2):\n",
    "        return num1+num2\n",
    "    return power\n",
    "\n"
   ]
  },
  {
   "cell_type": "code",
   "execution_count": 33,
   "metadata": {},
   "outputs": [],
   "source": [
    "p=genpower(20)\n",
    "q=genpower(10)"
   ]
  },
  {
   "cell_type": "code",
   "execution_count": 63,
   "metadata": {},
   "outputs": [
    {
     "data": {
      "text/plain": [
       "22"
      ]
     },
     "execution_count": 63,
     "metadata": {},
     "output_type": "execute_result"
    }
   ],
   "source": [
    "p(2)\n"
   ]
  },
  {
   "cell_type": "code",
   "execution_count": 39,
   "metadata": {},
   "outputs": [],
   "source": [
    "def edit_story(words,func):\n",
    "    for word in words:\n",
    "        print(func(word))\n",
    "A=['hello','good','apple','claire']\n",
    "\n",
    "def cap(word):\n",
    "    return word.capitalize()+\"!\""
   ]
  },
  {
   "cell_type": "code",
   "execution_count": 40,
   "metadata": {},
   "outputs": [
    {
     "name": "stdout",
     "output_type": "stream",
     "text": [
      "Hello!\n",
      "Good!\n",
      "Apple!\n",
      "Claire!\n"
     ]
    }
   ],
   "source": [
    "edit_story(A,cap)"
   ]
  },
  {
   "cell_type": "code",
   "execution_count": 41,
   "metadata": {},
   "outputs": [],
   "source": [
    "def edit_story(words,func):\n",
    "    for word in words:\n",
    "        print(func(word))\n",
    "A=['hello','good','apple','claire']"
   ]
  },
  {
   "cell_type": "code",
   "execution_count": 45,
   "metadata": {},
   "outputs": [
    {
     "name": "stdout",
     "output_type": "stream",
     "text": [
      "Hello!\n",
      "Good!\n",
      "Apple!\n",
      "Claire!\n"
     ]
    }
   ],
   "source": [
    "edit_story(A,lambda word:word.capitalize()+\"!\")"
   ]
  },
  {
   "cell_type": "code",
   "execution_count": 54,
   "metadata": {},
   "outputs": [],
   "source": [
    "def square(x):\n",
    "    return x **2\n"
   ]
  },
  {
   "cell_type": "code",
   "execution_count": 55,
   "metadata": {},
   "outputs": [
    {
     "data": {
      "text/plain": [
       "15129"
      ]
     },
     "execution_count": 55,
     "metadata": {},
     "output_type": "execute_result"
    }
   ],
   "source": [
    "square(123)"
   ]
  },
  {
   "cell_type": "code",
   "execution_count": 56,
   "metadata": {},
   "outputs": [
    {
     "data": {
      "text/plain": [
       "<map at 0x109a8d5f8>"
      ]
     },
     "execution_count": 56,
     "metadata": {},
     "output_type": "execute_result"
    }
   ],
   "source": [
    "map(lambda x:x**2,[1,2,3,4,5])"
   ]
  },
  {
   "cell_type": "code",
   "execution_count": 66,
   "metadata": {},
   "outputs": [
    {
     "data": {
      "text/plain": [
       "[1, 4, 9, 16, 25]"
      ]
     },
     "execution_count": 66,
     "metadata": {},
     "output_type": "execute_result"
    }
   ],
   "source": [
    "list(map(lambda x: x ** 2, [1, 2, 3, 4, 5]))"
   ]
  },
  {
   "cell_type": "code",
   "execution_count": 68,
   "metadata": {},
   "outputs": [
    {
     "data": {
      "text/plain": [
       "[7, 9, 11, 13, 15]"
      ]
     },
     "execution_count": 68,
     "metadata": {},
     "output_type": "execute_result"
    }
   ],
   "source": [
    "list(map(lambda x,y:x+y,[1,2,3,4,5],[6,7,8,9,10]))"
   ]
  },
  {
   "cell_type": "code",
   "execution_count": 51,
   "metadata": {},
   "outputs": [],
   "source": [
    "def document_it(func):\n",
    "    def new_function(*args,**kwargs):\n",
    "        print(\"執行函式\",func.__name__)\n",
    "        print(\"參數位置\",args)\n",
    "        print('關鍵字參數',kwargs)\n",
    "        resault=func(*args, **kwargs)\n",
    "        print('結果',resault)\n",
    "        return resault\n",
    "    return new_function\n"
   ]
  },
  {
   "cell_type": "code",
   "execution_count": 52,
   "metadata": {},
   "outputs": [],
   "source": [
    "def square_it(func):\n",
    "    def function_2(*args,**kwargs):\n",
    "        resault=func(*args,**kwargs)\n",
    "        print(\"new re=\",resault)\n",
    "        return resault*resault\n",
    "    return function_2"
   ]
  },
  {
   "cell_type": "code",
   "execution_count": 58,
   "metadata": {},
   "outputs": [],
   "source": [
    "@document_it\n",
    "@square_it\n",
    "def add_ints(a,b):\n",
    "    return a+b"
   ]
  },
  {
   "cell_type": "code",
   "execution_count": 59,
   "metadata": {},
   "outputs": [
    {
     "name": "stdout",
     "output_type": "stream",
     "text": [
      "執行函式 function_2\n",
      "參數位置 (3, 5)\n",
      "關鍵字參數 {}\n",
      "new re= 8\n",
      "結果 64\n"
     ]
    },
    {
     "data": {
      "text/plain": [
       "64"
      ]
     },
     "execution_count": 59,
     "metadata": {},
     "output_type": "execute_result"
    }
   ],
   "source": [
    "add_ints(3,5)"
   ]
  },
  {
   "cell_type": "code",
   "execution_count": 102,
   "metadata": {},
   "outputs": [],
   "source": [
    "animal='pig'\n",
    "def change_local():\n",
    "    global animal\n",
    "    animal='dog'\n",
    "    print(\"最高等級：\",animal,id(animal))"
   ]
  },
  {
   "cell_type": "code",
   "execution_count": 103,
   "metadata": {},
   "outputs": [
    {
     "name": "stdout",
     "output_type": "stream",
     "text": [
      "最高等級： dog 4456162112\n"
     ]
    },
    {
     "data": {
      "text/plain": [
       "'dog'"
      ]
     },
     "execution_count": 103,
     "metadata": {},
     "output_type": "execute_result"
    }
   ],
   "source": [
    "change_local()\n",
    "animal"
   ]
  },
  {
   "cell_type": "code",
   "execution_count": 104,
   "metadata": {},
   "outputs": [],
   "source": [
    "animal=\"frog\"\n",
    "def return_global():\n",
    "    animal=\"cat\"\n",
    "    print('local=',locals())"
   ]
  },
  {
   "cell_type": "code",
   "execution_count": 109,
   "metadata": {},
   "outputs": [
    {
     "name": "stdout",
     "output_type": "stream",
     "text": [
      "local= {'animal': 'cat'}\n"
     ]
    }
   ],
   "source": [
    "\n",
    "return_global()\n",
    "#print('global=',globals())"
   ]
  },
  {
   "cell_type": "code",
   "execution_count": 120,
   "metadata": {},
   "outputs": [],
   "source": [
    "def f():\n",
    "    try:\n",
    "        raise Exception\n",
    "    except: \n",
    "        print('good')\n",
    "        return True\n",
    "        \n",
    "    else:\n",
    "        print(\"bad\")\n",
    "        return True\n",
    "        \n",
    "    finally:\n",
    "        return False"
   ]
  },
  {
   "cell_type": "code",
   "execution_count": 121,
   "metadata": {},
   "outputs": [
    {
     "name": "stdout",
     "output_type": "stream",
     "text": [
      "good\n"
     ]
    },
    {
     "data": {
      "text/plain": [
       "False"
      ]
     },
     "execution_count": 121,
     "metadata": {},
     "output_type": "execute_result"
    }
   ],
   "source": [
    "f()"
   ]
  },
  {
   "cell_type": "code",
   "execution_count": 133,
   "metadata": {},
   "outputs": [],
   "source": []
  },
  {
   "cell_type": "code",
   "execution_count": null,
   "metadata": {},
   "outputs": [],
   "source": []
  }
 ],
 "metadata": {
  "kernelspec": {
   "display_name": "Python 3",
   "language": "python",
   "name": "python3"
  },
  "language_info": {
   "codemirror_mode": {
    "name": "ipython",
    "version": 3
   },
   "file_extension": ".py",
   "mimetype": "text/x-python",
   "name": "python",
   "nbconvert_exporter": "python",
   "pygments_lexer": "ipython3",
   "version": "3.6.4"
  }
 },
 "nbformat": 4,
 "nbformat_minor": 2
}

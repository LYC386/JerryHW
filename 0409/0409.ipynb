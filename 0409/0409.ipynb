{
 "cells": [
  {
   "cell_type": "markdown",
   "metadata": {},
   "source": [
    "## HOMEWORK"
   ]
  },
  {
   "cell_type": "code",
   "execution_count": 115,
   "metadata": {},
   "outputs": [
    {
     "name": "stdout",
     "output_type": "stream",
     "text": [
      "餐廳名稱：冰淇淋小舖 烹飪方式：炒冰\n",
      "我喜歡的⼝味： ['草莓冰淇淋', '香草冰淇淋', '薄荷巧克力', '覆盆子']\n"
     ]
    }
   ],
   "source": [
    "class Restaurant():\n",
    "    def __init__(self,name,way):\n",
    "        self.name = name\n",
    "        self.way = way\n",
    "    def describe_restaurant(self):\n",
    "        print(\"餐廳名稱：\"+self.name+\" 烹飪方式：\"+self.way)\n",
    "        \n",
    "class IceCreamStand(Restaurant):\n",
    "    \n",
    "    global flavors\n",
    "    def __init__(self,name,way,flavors):\n",
    "        super().__init__(name,way)\n",
    "        self.flavors = flavors\n",
    "        \n",
    "    def show_flavors(self):\n",
    "        flavors = [\"草莓冰淇淋\",\"香草冰淇淋\",\"薄荷巧克力\",\"覆盆子\"]\n",
    "        print(\"我喜歡的⼝味： \"+str(self.flavors))\n",
    "        \n",
    "\n",
    "stand = IceCreamStand(\"冰淇淋小舖\",\"炒冰\",flavors)\n",
    "stand.describe_restaurant()\n",
    "stand.show_flavors()\n",
    "\n",
    "\n",
    "        "
   ]
  },
  {
   "cell_type": "code",
   "execution_count": 135,
   "metadata": {},
   "outputs": [],
   "source": [
    "class A(object): \n",
    "    def go(self):\n",
    "        print (\"go A go!\") \n",
    "    def stop(self):\n",
    "        print (\"stop A stop!\") \n",
    "    def pause(self):\n",
    "        raise Exception(\"Not Implemented\")\n",
    "class B(A): \n",
    "    def go(self):\n",
    "        super(B, self).go() \n",
    "        print (\"go B go!\")\n",
    "class C(A): \n",
    "    def go(self):\n",
    "        super(C, self).go()\n",
    "        print (\"go C go!\") \n",
    "    def stop(self):\n",
    "        super(C, self).stop() \n",
    "        print (\"stop C stop!\")\n",
    "class D(B,C): \n",
    "    def go(self):\n",
    "        super(D, self).go()\n",
    "        print (\"go D go!\") \n",
    "    def stop(self):\n",
    "        super(D, self).stop()\n",
    "        print (\"stop D stop!\") \n",
    "    def pause(self):\n",
    "        print (\"wait D wait!\")\n",
    "class E(B,C): \n",
    "    pass"
   ]
  },
  {
   "cell_type": "code",
   "execution_count": 137,
   "metadata": {},
   "outputs": [
    {
     "name": "stdout",
     "output_type": "stream",
     "text": [
      "go A go!\n",
      "go A go!\n",
      "go B go!\n",
      "go A go!\n",
      "go C go!\n"
     ]
    }
   ],
   "source": [
    "a = A()\n",
    "b = B()\n",
    "c = C()\n",
    "d = D()\n",
    "e = E()\n",
    "a.go() \n",
    "b.go() \n",
    "c.go() \n",
    "#d.go() \n",
    "#e.go()\n",
    "#a.stop() \n",
    "#b.stop() \n",
    "#c.stop() \n",
    "#d.stop() \n",
    "#e.stop()\n",
    "#a.pause() \n",
    "#b.pause() \n",
    "#c.pause() \n",
    "#d.pause() \n",
    "#e.pause()"
   ]
  },
  {
   "cell_type": "code",
   "execution_count": null,
   "metadata": {},
   "outputs": [],
   "source": []
  }
 ],
 "metadata": {
  "kernelspec": {
   "display_name": "Python 3",
   "language": "python",
   "name": "python3"
  },
  "language_info": {
   "codemirror_mode": {
    "name": "ipython",
    "version": 3
   },
   "file_extension": ".py",
   "mimetype": "text/x-python",
   "name": "python",
   "nbconvert_exporter": "python",
   "pygments_lexer": "ipython3",
   "version": "3.6.4"
  }
 },
 "nbformat": 4,
 "nbformat_minor": 2
}
